{
  "nbformat": 4,
  "nbformat_minor": 0,
  "metadata": {
    "colab": {
      "name": "Untitled12.ipynb",
      "provenance": [],
      "collapsed_sections": [],
      "toc_visible": true
    },
    "kernelspec": {
      "name": "python3",
      "display_name": "Python 3"
    },
    "accelerator": "GPU"
  },
  "cells": [
    {
      "cell_type": "code",
      "metadata": {
        "id": "9h1gdXWZyZvH"
      },
      "source": [
        "# download the pretrained german language model from floleuerer\n",
        "# https://github.com/floleuerer/fastai_ulmfit_german\n",
        "!wget http://meansqua.red/files/de_ulmfit/30k/de_wikitext.pth -P models\n",
        "!wget http://meansqua.red/files/de_ulmfit/30k/de_wikitext_vocab.pkl -P models"
      ],
      "execution_count": null,
      "outputs": []
    },
    {
      "cell_type": "code",
      "metadata": {
        "colab": {
          "base_uri": "https://localhost:8080/"
        },
        "id": "bo-O1WfVHBKk",
        "outputId": "0d45d046-79d3-45cb-e9d3-cd57374d3126"
      },
      "source": [
        "# mount google drive to import files\n",
        "from google.colab import drive\n",
        "drive.mount(\"/content/drive\")"
      ],
      "execution_count": 2,
      "outputs": [
        {
          "output_type": "stream",
          "text": [
            "Mounted at /content/drive\n"
          ],
          "name": "stdout"
        }
      ]
    },
    {
      "cell_type": "code",
      "metadata": {
        "id": "Hizh-wBbH6gJ",
        "colab": {
          "base_uri": "https://localhost:8080/"
        },
        "outputId": "fef416c1-48e2-4591-ed19-2a9e0b553d41"
      },
      "source": [
        "# install fast.ai library and other libraries needed for the notebook\n",
        "!pip install -Uqq fastbook\n",
        "import fastbook\n",
        "import pandas as pd\n",
        "import json\n",
        "from fastai.text.all import *"
      ],
      "execution_count": 3,
      "outputs": [
        {
          "output_type": "stream",
          "text": [
            "\u001b[?25l\r\u001b[K     |▌                               | 10kB 34.0MB/s eta 0:00:01\r\u001b[K     |█                               | 20kB 23.5MB/s eta 0:00:01\r\u001b[K     |█▍                              | 30kB 21.0MB/s eta 0:00:01\r\u001b[K     |█▉                              | 40kB 16.9MB/s eta 0:00:01\r\u001b[K     |██▎                             | 51kB 12.8MB/s eta 0:00:01\r\u001b[K     |██▊                             | 61kB 12.9MB/s eta 0:00:01\r\u001b[K     |███▏                            | 71kB 13.5MB/s eta 0:00:01\r\u001b[K     |███▋                            | 81kB 13.3MB/s eta 0:00:01\r\u001b[K     |████                            | 92kB 13.2MB/s eta 0:00:01\r\u001b[K     |████▌                           | 102kB 13.2MB/s eta 0:00:01\r\u001b[K     |█████                           | 112kB 13.2MB/s eta 0:00:01\r\u001b[K     |█████▌                          | 122kB 13.2MB/s eta 0:00:01\r\u001b[K     |██████                          | 133kB 13.2MB/s eta 0:00:01\r\u001b[K     |██████▍                         | 143kB 13.2MB/s eta 0:00:01\r\u001b[K     |██████▉                         | 153kB 13.2MB/s eta 0:00:01\r\u001b[K     |███████▎                        | 163kB 13.2MB/s eta 0:00:01\r\u001b[K     |███████▊                        | 174kB 13.2MB/s eta 0:00:01\r\u001b[K     |████████▏                       | 184kB 13.2MB/s eta 0:00:01\r\u001b[K     |████████▋                       | 194kB 13.2MB/s eta 0:00:01\r\u001b[K     |█████████                       | 204kB 13.2MB/s eta 0:00:01\r\u001b[K     |█████████▋                      | 215kB 13.2MB/s eta 0:00:01\r\u001b[K     |██████████                      | 225kB 13.2MB/s eta 0:00:01\r\u001b[K     |██████████▌                     | 235kB 13.2MB/s eta 0:00:01\r\u001b[K     |███████████                     | 245kB 13.2MB/s eta 0:00:01\r\u001b[K     |███████████▍                    | 256kB 13.2MB/s eta 0:00:01\r\u001b[K     |███████████▉                    | 266kB 13.2MB/s eta 0:00:01\r\u001b[K     |████████████▎                   | 276kB 13.2MB/s eta 0:00:01\r\u001b[K     |████████████▊                   | 286kB 13.2MB/s eta 0:00:01\r\u001b[K     |█████████████▏                  | 296kB 13.2MB/s eta 0:00:01\r\u001b[K     |█████████████▋                  | 307kB 13.2MB/s eta 0:00:01\r\u001b[K     |██████████████                  | 317kB 13.2MB/s eta 0:00:01\r\u001b[K     |██████████████▋                 | 327kB 13.2MB/s eta 0:00:01\r\u001b[K     |███████████████                 | 337kB 13.2MB/s eta 0:00:01\r\u001b[K     |███████████████▌                | 348kB 13.2MB/s eta 0:00:01\r\u001b[K     |████████████████                | 358kB 13.2MB/s eta 0:00:01\r\u001b[K     |████████████████▍               | 368kB 13.2MB/s eta 0:00:01\r\u001b[K     |████████████████▉               | 378kB 13.2MB/s eta 0:00:01\r\u001b[K     |█████████████████▎              | 389kB 13.2MB/s eta 0:00:01\r\u001b[K     |█████████████████▊              | 399kB 13.2MB/s eta 0:00:01\r\u001b[K     |██████████████████▏             | 409kB 13.2MB/s eta 0:00:01\r\u001b[K     |██████████████████▋             | 419kB 13.2MB/s eta 0:00:01\r\u001b[K     |███████████████████▏            | 430kB 13.2MB/s eta 0:00:01\r\u001b[K     |███████████████████▋            | 440kB 13.2MB/s eta 0:00:01\r\u001b[K     |████████████████████            | 450kB 13.2MB/s eta 0:00:01\r\u001b[K     |████████████████████▌           | 460kB 13.2MB/s eta 0:00:01\r\u001b[K     |█████████████████████           | 471kB 13.2MB/s eta 0:00:01\r\u001b[K     |█████████████████████▍          | 481kB 13.2MB/s eta 0:00:01\r\u001b[K     |█████████████████████▉          | 491kB 13.2MB/s eta 0:00:01\r\u001b[K     |██████████████████████▎         | 501kB 13.2MB/s eta 0:00:01\r\u001b[K     |██████████████████████▊         | 512kB 13.2MB/s eta 0:00:01\r\u001b[K     |███████████████████████▏        | 522kB 13.2MB/s eta 0:00:01\r\u001b[K     |███████████████████████▋        | 532kB 13.2MB/s eta 0:00:01\r\u001b[K     |████████████████████████▏       | 542kB 13.2MB/s eta 0:00:01\r\u001b[K     |████████████████████████▋       | 552kB 13.2MB/s eta 0:00:01\r\u001b[K     |█████████████████████████       | 563kB 13.2MB/s eta 0:00:01\r\u001b[K     |█████████████████████████▌      | 573kB 13.2MB/s eta 0:00:01\r\u001b[K     |██████████████████████████      | 583kB 13.2MB/s eta 0:00:01\r\u001b[K     |██████████████████████████▍     | 593kB 13.2MB/s eta 0:00:01\r\u001b[K     |██████████████████████████▉     | 604kB 13.2MB/s eta 0:00:01\r\u001b[K     |███████████████████████████▎    | 614kB 13.2MB/s eta 0:00:01\r\u001b[K     |███████████████████████████▊    | 624kB 13.2MB/s eta 0:00:01\r\u001b[K     |████████████████████████████▏   | 634kB 13.2MB/s eta 0:00:01\r\u001b[K     |████████████████████████████▊   | 645kB 13.2MB/s eta 0:00:01\r\u001b[K     |█████████████████████████████▏  | 655kB 13.2MB/s eta 0:00:01\r\u001b[K     |█████████████████████████████▋  | 665kB 13.2MB/s eta 0:00:01\r\u001b[K     |██████████████████████████████  | 675kB 13.2MB/s eta 0:00:01\r\u001b[K     |██████████████████████████████▌ | 686kB 13.2MB/s eta 0:00:01\r\u001b[K     |███████████████████████████████ | 696kB 13.2MB/s eta 0:00:01\r\u001b[K     |███████████████████████████████▍| 706kB 13.2MB/s eta 0:00:01\r\u001b[K     |███████████████████████████████▉| 716kB 13.2MB/s eta 0:00:01\r\u001b[K     |████████████████████████████████| 727kB 13.2MB/s \n",
            "\u001b[K     |████████████████████████████████| 51kB 9.7MB/s \n",
            "\u001b[K     |████████████████████████████████| 194kB 53.3MB/s \n",
            "\u001b[K     |████████████████████████████████| 1.1MB 52.5MB/s \n",
            "\u001b[K     |████████████████████████████████| 61kB 9.5MB/s \n",
            "\u001b[?25h"
          ],
          "name": "stdout"
        }
      ]
    },
    {
      "cell_type": "markdown",
      "metadata": {
        "id": "NXLQfrS4zDki"
      },
      "source": [
        "## Load and prepare the Data"
      ]
    },
    {
      "cell_type": "code",
      "metadata": {
        "id": "XVkLMhtsAs0B"
      },
      "source": [
        "path = Path('.')\n",
        "model_path = Path(f'{path.absolute()}/models')\n",
        "spm_path = Path(path/'models/spm_de_ft')"
      ],
      "execution_count": 32,
      "outputs": []
    },
    {
      "cell_type": "code",
      "metadata": {
        "id": "bhs3_t9qzHEL"
      },
      "source": [
        "lyrics = pd.read_csv(\"/content/drive/MyDrive/lyrics.csv\")\n",
        "lyrics.drop(\"Unnamed: 0\", axis=1, inplace=True)"
      ],
      "execution_count": 33,
      "outputs": []
    },
    {
      "cell_type": "code",
      "metadata": {
        "colab": {
          "base_uri": "https://localhost:8080/",
          "height": 71
        },
        "id": "IM2o9TGazd-z",
        "outputId": "95127ef1-1a39-4292-fa44-acfbce8ab012"
      },
      "source": [
        "# load tokenizer\n",
        "tok = SentencePieceTokenizer(lang=\"de\", cache_dir=spm_path)\n",
        "# load data using FastAI's DataBlock API\n",
        "lyrics_lm = DataBlock(blocks=TextBlock.from_df('lyrics', is_lm=True, tok=tok),\n",
        "                    get_x=ColReader('text'),\n",
        "                    splitter=RandomSplitter(0.1))\n",
        "\n",
        "# create dataloaders\n",
        "dlsLyrics = lyrics_lm.dataloaders(lyrics, bs=64)"
      ],
      "execution_count": 34,
      "outputs": [
        {
          "output_type": "display_data",
          "data": {
            "text/html": [
              ""
            ],
            "text/plain": [
              "<IPython.core.display.HTML object>"
            ]
          },
          "metadata": {
            "tags": []
          }
        },
        {
          "output_type": "display_data",
          "data": {
            "text/html": [
              ""
            ],
            "text/plain": [
              "<IPython.core.display.HTML object>"
            ]
          },
          "metadata": {
            "tags": []
          }
        },
        {
          "output_type": "stream",
          "text": [
            "/usr/local/lib/python3.6/dist-packages/numpy/core/_asarray.py:83: VisibleDeprecationWarning: Creating an ndarray from ragged nested sequences (which is a list-or-tuple of lists-or-tuples-or ndarrays with different lengths or shapes) is deprecated. If you meant to do this, you must specify 'dtype=object' when creating the ndarray\n",
            "  return array(a, dtype, copy=False, order=order)\n"
          ],
          "name": "stderr"
        }
      ]
    },
    {
      "cell_type": "markdown",
      "metadata": {
        "id": "Kk5bfNMr1Hpp"
      },
      "source": [
        "## Fine-tune the language model"
      ]
    },
    {
      "cell_type": "code",
      "metadata": {
        "id": "g3hxPp521IwK"
      },
      "source": [
        "# initialize the model\n",
        "pretrained_fnames = [\"/content/models/de_wikitext\", \"/content/models/de_wikitext_vocab\"]\n",
        "learn_lm = language_model_learner(dlsLyrics, AWD_LSTM, drop_mult=0.5, pretrained=True, pretrained_fnames=pretrained_fnames, \n",
        "                               metrics=[accuracy, Perplexity()]).to_fp16()"
      ],
      "execution_count": 35,
      "outputs": []
    },
    {
      "cell_type": "code",
      "metadata": {
        "colab": {
          "base_uri": "https://localhost:8080/",
          "height": 306
        },
        "id": "L4iNB3_X1QfW",
        "outputId": "858ec42d-5773-48cb-ed1c-f98efd82f1b1"
      },
      "source": [
        "learn_lm.lr_find()"
      ],
      "execution_count": 36,
      "outputs": [
        {
          "output_type": "display_data",
          "data": {
            "text/html": [
              ""
            ],
            "text/plain": [
              "<IPython.core.display.HTML object>"
            ]
          },
          "metadata": {
            "tags": []
          }
        },
        {
          "output_type": "execute_result",
          "data": {
            "text/plain": [
              "SuggestedLRs(lr_min=0.05248074531555176, lr_steep=0.0691830962896347)"
            ]
          },
          "metadata": {
            "tags": []
          },
          "execution_count": 36
        },
        {
          "output_type": "display_data",
          "data": {
            "image/png": "[encoded data removed]",
            "text/plain": [
              "<Figure size 432x288 with 1 Axes>"
            ]
          },
          "metadata": {
            "tags": [],
            "needs_background": "light"
          }
        }
      ]
    },
    {
      "cell_type": "code",
      "metadata": {
        "colab": {
          "base_uri": "https://localhost:8080/",
          "height": 80
        },
        "id": "PRRkjyqb2XPF",
        "outputId": "1552379d-2c65-4843-a9f8-a536031df2b5"
      },
      "source": [
        "lr = 0.07\n",
        "learn_lm.fit_one_cycle(1, lr, moms=(0.8,0.7,0.8))"
      ],
      "execution_count": 37,
      "outputs": [
        {
          "output_type": "display_data",
          "data": {
            "text/html": [
              "<table border=\"1\" class=\"dataframe\">\n",
              "  <thead>\n",
              "    <tr style=\"text-align: left;\">\n",
              "      <th>epoch</th>\n",
              "      <th>train_loss</th>\n",
              "      <th>valid_loss</th>\n",
              "      <th>accuracy</th>\n",
              "      <th>perplexity</th>\n",
              "      <th>time</th>\n",
              "    </tr>\n",
              "  </thead>\n",
              "  <tbody>\n",
              "    <tr>\n",
              "      <td>0</td>\n",
              "      <td>4.520968</td>\n",
              "      <td>4.290293</td>\n",
              "      <td>0.282162</td>\n",
              "      <td>72.987831</td>\n",
              "      <td>00:30</td>\n",
              "    </tr>\n",
              "  </tbody>\n",
              "</table>"
            ],
            "text/plain": [
              "<IPython.core.display.HTML object>"
            ]
          },
          "metadata": {
            "tags": []
          }
        }
      ]
    },
    {
      "cell_type": "code",
      "metadata": {
        "colab": {
          "base_uri": "https://localhost:8080/",
          "height": 514
        },
        "id": "5j8aE3fs2XpD",
        "outputId": "e55a476d-73db-43bd-d06d-292ddab61b46"
      },
      "source": [
        "learn_lm.unfreeze()\n",
        "learn_lm.fit_one_cycle(15, slice(lr/10,lr), moms=(0.8,0.7,0.8))"
      ],
      "execution_count": 38,
      "outputs": [
        {
          "output_type": "display_data",
          "data": {
            "text/html": [
              "<table border=\"1\" class=\"dataframe\">\n",
              "  <thead>\n",
              "    <tr style=\"text-align: left;\">\n",
              "      <th>epoch</th>\n",
              "      <th>train_loss</th>\n",
              "      <th>valid_loss</th>\n",
              "      <th>accuracy</th>\n",
              "      <th>perplexity</th>\n",
              "      <th>time</th>\n",
              "    </tr>\n",
              "  </thead>\n",
              "  <tbody>\n",
              "    <tr>\n",
              "      <td>0</td>\n",
              "      <td>3.917076</td>\n",
              "      <td>4.107571</td>\n",
              "      <td>0.302911</td>\n",
              "      <td>60.798836</td>\n",
              "      <td>00:34</td>\n",
              "    </tr>\n",
              "    <tr>\n",
              "      <td>1</td>\n",
              "      <td>3.749273</td>\n",
              "      <td>4.137496</td>\n",
              "      <td>0.295094</td>\n",
              "      <td>62.645729</td>\n",
              "      <td>00:34</td>\n",
              "    </tr>\n",
              "    <tr>\n",
              "      <td>2</td>\n",
              "      <td>3.678598</td>\n",
              "      <td>4.193908</td>\n",
              "      <td>0.298701</td>\n",
              "      <td>66.281326</td>\n",
              "      <td>00:34</td>\n",
              "    </tr>\n",
              "    <tr>\n",
              "      <td>3</td>\n",
              "      <td>3.632244</td>\n",
              "      <td>4.134302</td>\n",
              "      <td>0.308689</td>\n",
              "      <td>62.445969</td>\n",
              "      <td>00:34</td>\n",
              "    </tr>\n",
              "    <tr>\n",
              "      <td>4</td>\n",
              "      <td>3.456254</td>\n",
              "      <td>4.075757</td>\n",
              "      <td>0.317733</td>\n",
              "      <td>58.895050</td>\n",
              "      <td>00:34</td>\n",
              "    </tr>\n",
              "    <tr>\n",
              "      <td>5</td>\n",
              "      <td>3.294416</td>\n",
              "      <td>4.064702</td>\n",
              "      <td>0.323124</td>\n",
              "      <td>58.247524</td>\n",
              "      <td>00:34</td>\n",
              "    </tr>\n",
              "    <tr>\n",
              "      <td>6</td>\n",
              "      <td>3.083467</td>\n",
              "      <td>4.063488</td>\n",
              "      <td>0.328475</td>\n",
              "      <td>58.176907</td>\n",
              "      <td>00:34</td>\n",
              "    </tr>\n",
              "    <tr>\n",
              "      <td>7</td>\n",
              "      <td>2.907091</td>\n",
              "      <td>4.026275</td>\n",
              "      <td>0.337462</td>\n",
              "      <td>56.051739</td>\n",
              "      <td>00:34</td>\n",
              "    </tr>\n",
              "    <tr>\n",
              "      <td>8</td>\n",
              "      <td>2.683048</td>\n",
              "      <td>4.027065</td>\n",
              "      <td>0.341370</td>\n",
              "      <td>56.096016</td>\n",
              "      <td>00:34</td>\n",
              "    </tr>\n",
              "    <tr>\n",
              "      <td>9</td>\n",
              "      <td>2.420420</td>\n",
              "      <td>4.019886</td>\n",
              "      <td>0.347058</td>\n",
              "      <td>55.694733</td>\n",
              "      <td>00:34</td>\n",
              "    </tr>\n",
              "    <tr>\n",
              "      <td>10</td>\n",
              "      <td>2.148847</td>\n",
              "      <td>4.047973</td>\n",
              "      <td>0.353045</td>\n",
              "      <td>57.281212</td>\n",
              "      <td>00:34</td>\n",
              "    </tr>\n",
              "    <tr>\n",
              "      <td>11</td>\n",
              "      <td>1.893188</td>\n",
              "      <td>4.121136</td>\n",
              "      <td>0.355900</td>\n",
              "      <td>61.629196</td>\n",
              "      <td>00:34</td>\n",
              "    </tr>\n",
              "    <tr>\n",
              "      <td>12</td>\n",
              "      <td>1.723768</td>\n",
              "      <td>4.169887</td>\n",
              "      <td>0.356790</td>\n",
              "      <td>64.708145</td>\n",
              "      <td>00:34</td>\n",
              "    </tr>\n",
              "    <tr>\n",
              "      <td>13</td>\n",
              "      <td>1.578545</td>\n",
              "      <td>4.211287</td>\n",
              "      <td>0.357177</td>\n",
              "      <td>67.443253</td>\n",
              "      <td>00:34</td>\n",
              "    </tr>\n",
              "    <tr>\n",
              "      <td>14</td>\n",
              "      <td>1.489983</td>\n",
              "      <td>4.230748</td>\n",
              "      <td>0.356367</td>\n",
              "      <td>68.768661</td>\n",
              "      <td>00:34</td>\n",
              "    </tr>\n",
              "  </tbody>\n",
              "</table>"
            ],
            "text/plain": [
              "<IPython.core.display.HTML object>"
            ]
          },
          "metadata": {
            "tags": []
          }
        }
      ]
    },
    {
      "cell_type": "code",
      "metadata": {
        "id": "pOUMcCtk44Qt"
      },
      "source": [
        "learn_lm.path = model_path"
      ],
      "execution_count": 39,
      "outputs": []
    },
    {
      "cell_type": "code",
      "metadata": {
        "id": "6B4L7vqnTK9R"
      },
      "source": [
        "# save the fine-tuned language model\n",
        "lm_ft_fns = [model_path/\"de_ft\", model_path/\"de_ft_vocab.pkl\"]\n",
        "learn_lm.to_fp32()\n",
        "learn_lm.save(lm_ft_fns[0], with_opt=False)\n",
        "learn_lm.save_encoder(f'{lm_ft_fns[0]}_encoder')\n",
        "with open(lm_ft_fns[1], 'wb') as f:\n",
        "      pickle.dump(learn_lm.dls.vocab, f)"
      ],
      "execution_count": 40,
      "outputs": []
    },
    {
      "cell_type": "markdown",
      "metadata": {
        "id": "2yggMSOm2jg8"
      },
      "source": [
        "## Create and train the Genre Classifier"
      ]
    },
    {
      "cell_type": "code",
      "metadata": {
        "id": "MQ8kiaEWE59P"
      },
      "source": [
        "# load tokenizer and vocab\n",
        "tok = SentencePieceTokenizer(lang=\"de\", sp_model=spm_path/'spm.model')\n",
        "with open(f'{lm_ft_fns[1]}', 'rb') as f:\n",
        "      vocab = pickle.load(f)"
      ],
      "execution_count": 58,
      "outputs": []
    },
    {
      "cell_type": "code",
      "metadata": {
        "id": "aXxACfvAFzzy"
      },
      "source": [
        "\n",
        "dblocks = DataBlock(blocks=(TextBlock.from_df('text', tok=tok, vocab=vocab), CategoryBlock),\n",
        "                    get_x=ColReader('text'),\n",
        "                    get_y=ColReader('label'), \n",
        "                    splitter=ColSplitter())\n",
        "dls = dblocks.dataloaders(df)"
      ],
      "execution_count": null,
      "outputs": []
    },
    {
      "cell_type": "code",
      "metadata": {
        "colab": {
          "base_uri": "https://localhost:8080/",
          "height": 71
        },
        "id": "g9n0Nmx52sAT",
        "outputId": "9f72b805-d19a-4511-f1e9-3bda1efbdc8c"
      },
      "source": [
        "# prepare the data\n",
        "dblocksClass = DataBlock(blocks=(TextBlock.from_df('lyrics', tok=tok, vocab=vocab), CategoryBlock),\n",
        "                    get_x=ColReader('text'),\n",
        "                    get_y=ColReader('genre'), \n",
        "                    splitter=RandomSplitter(0.2))\n",
        "dls_class = dblocksClass.dataloaders(lyrics)"
      ],
      "execution_count": 68,
      "outputs": [
        {
          "output_type": "display_data",
          "data": {
            "text/html": [
              ""
            ],
            "text/plain": [
              "<IPython.core.display.HTML object>"
            ]
          },
          "metadata": {
            "tags": []
          }
        },
        {
          "output_type": "stream",
          "text": [
            "/usr/local/lib/python3.6/dist-packages/numpy/core/_asarray.py:83: VisibleDeprecationWarning: Creating an ndarray from ragged nested sequences (which is a list-or-tuple of lists-or-tuples-or ndarrays with different lengths or shapes) is deprecated. If you meant to do this, you must specify 'dtype=object' when creating the ndarray\n",
            "  return array(a, dtype, copy=False, order=order)\n"
          ],
          "name": "stderr"
        }
      ]
    },
    {
      "cell_type": "code",
      "metadata": {
        "colab": {
          "base_uri": "https://localhost:8080/"
        },
        "id": "iN7otLL-3mGb",
        "outputId": "860e9906-d8d8-496c-a96c-35369bad7cdd"
      },
      "source": [
        "dls_class.vocab[1]"
      ],
      "execution_count": 72,
      "outputs": [
        {
          "output_type": "execute_result",
          "data": {
            "text/plain": [
              "['hiphop', 'pop', 'schlager']"
            ]
          },
          "metadata": {
            "tags": []
          },
          "execution_count": 72
        }
      ]
    },
    {
      "cell_type": "code",
      "metadata": {
        "id": "YLK4Q_tRG7UC"
      },
      "source": [
        "# initialize classified\n",
        "learn = text_classifier_learner(dls_class, AWD_LSTM, drop_mult=0.5, pretrained=False, \n",
        "                               metrics=[accuracy]).to_fp16()\n",
        "learn.path = model_path"
      ],
      "execution_count": 73,
      "outputs": []
    },
    {
      "cell_type": "code",
      "metadata": {
        "colab": {
          "base_uri": "https://localhost:8080/"
        },
        "id": "rbvN0nlAHFqX",
        "outputId": "753b7db8-34db-4c55-c7c2-62d7d9eed5ae"
      },
      "source": [
        "# load encoder\n",
        "learn.load_encoder(model_path/'de_ft_encoder')"
      ],
      "execution_count": 78,
      "outputs": [
        {
          "output_type": "execute_result",
          "data": {
            "text/plain": [
              "<fastai.text.learner.TextLearner at 0x7fbd1e531a90>"
            ]
          },
          "metadata": {
            "tags": []
          },
          "execution_count": 78
        }
      ]
    },
    {
      "cell_type": "code",
      "metadata": {
        "colab": {
          "base_uri": "https://localhost:8080/",
          "height": 306
        },
        "id": "mAa2sDHqHVTQ",
        "outputId": "9be545c9-73d9-41c0-bc16-a4158ce6a49c"
      },
      "source": [
        "learn.lr_find()"
      ],
      "execution_count": 79,
      "outputs": [
        {
          "output_type": "display_data",
          "data": {
            "text/html": [
              ""
            ],
            "text/plain": [
              "<IPython.core.display.HTML object>"
            ]
          },
          "metadata": {
            "tags": []
          }
        },
        {
          "output_type": "execute_result",
          "data": {
            "text/plain": [
              "SuggestedLRs(lr_min=0.03630780577659607, lr_steep=0.0008317637839354575)"
            ]
          },
          "metadata": {
            "tags": []
          },
          "execution_count": 79
        },
        {
          "output_type": "display_data",
          "data": {
            "image/png": "[encoded data removed]",
            "text/plain": [
              "<Figure size 432x288 with 1 Axes>"
            ]
          },
          "metadata": {
            "tags": [],
            "needs_background": "light"
          }
        }
      ]
    },
    {
      "cell_type": "code",
      "metadata": {
        "colab": {
          "base_uri": "https://localhost:8080/",
          "height": 80
        },
        "id": "mWfxZSoTHaPa",
        "outputId": "ab212cc8-da8b-413b-e924-bf98c1620f7c"
      },
      "source": [
        "lr = 0.02\n",
        "learn.fit_one_cycle(1, lr)"
      ],
      "execution_count": 85,
      "outputs": [
        {
          "output_type": "display_data",
          "data": {
            "text/html": [
              "<table border=\"1\" class=\"dataframe\">\n",
              "  <thead>\n",
              "    <tr style=\"text-align: left;\">\n",
              "      <th>epoch</th>\n",
              "      <th>train_loss</th>\n",
              "      <th>valid_loss</th>\n",
              "      <th>accuracy</th>\n",
              "      <th>time</th>\n",
              "    </tr>\n",
              "  </thead>\n",
              "  <tbody>\n",
              "    <tr>\n",
              "      <td>0</td>\n",
              "      <td>0.240898</td>\n",
              "      <td>0.753607</td>\n",
              "      <td>0.848718</td>\n",
              "      <td>00:13</td>\n",
              "    </tr>\n",
              "  </tbody>\n",
              "</table>"
            ],
            "text/plain": [
              "<IPython.core.display.HTML object>"
            ]
          },
          "metadata": {
            "tags": []
          }
        }
      ]
    },
    {
      "cell_type": "code",
      "metadata": {
        "colab": {
          "base_uri": "https://localhost:8080/",
          "height": 514
        },
        "id": "yDSe1ufWJ1GP",
        "outputId": "6a532a8b-a34d-486a-9ddb-30b7d8efc763"
      },
      "source": [
        "learn.unfreeze()\n",
        "learn.fit_one_cycle(15, slice(lr/10,lr), moms=(0.8,0.7,0.8))"
      ],
      "execution_count": 86,
      "outputs": [
        {
          "output_type": "display_data",
          "data": {
            "text/html": [
              "<table border=\"1\" class=\"dataframe\">\n",
              "  <thead>\n",
              "    <tr style=\"text-align: left;\">\n",
              "      <th>epoch</th>\n",
              "      <th>train_loss</th>\n",
              "      <th>valid_loss</th>\n",
              "      <th>accuracy</th>\n",
              "      <th>time</th>\n",
              "    </tr>\n",
              "  </thead>\n",
              "  <tbody>\n",
              "    <tr>\n",
              "      <td>0</td>\n",
              "      <td>0.267297</td>\n",
              "      <td>0.491798</td>\n",
              "      <td>0.876923</td>\n",
              "      <td>00:13</td>\n",
              "    </tr>\n",
              "    <tr>\n",
              "      <td>1</td>\n",
              "      <td>0.208960</td>\n",
              "      <td>0.578490</td>\n",
              "      <td>0.866667</td>\n",
              "      <td>00:14</td>\n",
              "    </tr>\n",
              "    <tr>\n",
              "      <td>2</td>\n",
              "      <td>0.188273</td>\n",
              "      <td>0.829313</td>\n",
              "      <td>0.879487</td>\n",
              "      <td>00:13</td>\n",
              "    </tr>\n",
              "    <tr>\n",
              "      <td>3</td>\n",
              "      <td>0.225947</td>\n",
              "      <td>0.426566</td>\n",
              "      <td>0.887179</td>\n",
              "      <td>00:13</td>\n",
              "    </tr>\n",
              "    <tr>\n",
              "      <td>4</td>\n",
              "      <td>0.215490</td>\n",
              "      <td>0.598739</td>\n",
              "      <td>0.871795</td>\n",
              "      <td>00:13</td>\n",
              "    </tr>\n",
              "    <tr>\n",
              "      <td>5</td>\n",
              "      <td>0.161672</td>\n",
              "      <td>0.786173</td>\n",
              "      <td>0.851282</td>\n",
              "      <td>00:13</td>\n",
              "    </tr>\n",
              "    <tr>\n",
              "      <td>6</td>\n",
              "      <td>0.126598</td>\n",
              "      <td>0.627862</td>\n",
              "      <td>0.864103</td>\n",
              "      <td>00:13</td>\n",
              "    </tr>\n",
              "    <tr>\n",
              "      <td>7</td>\n",
              "      <td>0.093515</td>\n",
              "      <td>0.535173</td>\n",
              "      <td>0.884615</td>\n",
              "      <td>00:13</td>\n",
              "    </tr>\n",
              "    <tr>\n",
              "      <td>8</td>\n",
              "      <td>0.071850</td>\n",
              "      <td>0.489066</td>\n",
              "      <td>0.884615</td>\n",
              "      <td>00:13</td>\n",
              "    </tr>\n",
              "    <tr>\n",
              "      <td>9</td>\n",
              "      <td>0.058632</td>\n",
              "      <td>0.451233</td>\n",
              "      <td>0.887179</td>\n",
              "      <td>00:13</td>\n",
              "    </tr>\n",
              "    <tr>\n",
              "      <td>10</td>\n",
              "      <td>0.050684</td>\n",
              "      <td>0.458729</td>\n",
              "      <td>0.892308</td>\n",
              "      <td>00:13</td>\n",
              "    </tr>\n",
              "    <tr>\n",
              "      <td>11</td>\n",
              "      <td>0.041464</td>\n",
              "      <td>0.475882</td>\n",
              "      <td>0.884615</td>\n",
              "      <td>00:13</td>\n",
              "    </tr>\n",
              "    <tr>\n",
              "      <td>12</td>\n",
              "      <td>0.034903</td>\n",
              "      <td>0.501810</td>\n",
              "      <td>0.889744</td>\n",
              "      <td>00:13</td>\n",
              "    </tr>\n",
              "    <tr>\n",
              "      <td>13</td>\n",
              "      <td>0.029575</td>\n",
              "      <td>0.489688</td>\n",
              "      <td>0.892308</td>\n",
              "      <td>00:13</td>\n",
              "    </tr>\n",
              "    <tr>\n",
              "      <td>14</td>\n",
              "      <td>0.026513</td>\n",
              "      <td>0.510215</td>\n",
              "      <td>0.884615</td>\n",
              "      <td>00:13</td>\n",
              "    </tr>\n",
              "  </tbody>\n",
              "</table>"
            ],
            "text/plain": [
              "<IPython.core.display.HTML object>"
            ]
          },
          "metadata": {
            "tags": []
          }
        }
      ]
    },
    {
      "cell_type": "code",
      "metadata": {
        "id": "l-POpDT7IPH0"
      },
      "source": [
        "test = \"\"\" Ständig unterwegs von Termin zu Termin\n",
        "Ich halt' es kaum noch aus, nur mit viel Tilidin\n",
        "Woah, meine Fans sind loyal\n",
        "Ruf' ich \"Sam\", dann schrei'n alle \"ra\"\n",
        "Ich steh' über den Leuten, unter dem Licht\n",
        "Herz gefickt, weil ich meine Mutter vermiss'\n",
        "Und geh' ich von der Stage, dann will ich kein'n seh'n\n",
        "Er will mir alles hol'n, ich sag' dem Runner, er soll geh'n\n",
        "Backstage voll mit Energy und Wodka\n",
        "Und der Notarzt kommt im Helikopter\n",
        "Die Zeit ist viel zu kostbar, sie wollten mich nur kleinhalten\n",
        "Doch wer im Glashaus sitzt, sollte nicht mit Stein'n schmeißen\n",
        "Der Libnani in Giorgio Armani\n",
        "Kann kaum noch laufen, doch steig' auf die Ducati\n",
        "Weltunterschiede, der Sheytan im Spiegel\n",
        "Für viele bin ich leider nur 'ne Gelddruckmaschine\n",
        "Mitten in der Nacht und ich hasse mich selbst\n",
        "Was ich gemacht hab' für Geld\n",
        "Das ist der Grund, warum ich nicht mehr schlafen kann\n",
        "365 Tage lang\n",
        "Mitten in der Nacht und ich hasse die Welt\n",
        "Durch die Stadt im SL, es geht alles zu schnell\n",
        "Das ist der Grund, warum ich nicht mehr schlafen kann\n",
        "365 Tage lang\n",
        "Ich bin im Studio auf Alkohol, das Kokain schmeckt wieder bitter\n",
        "Ich fang' an zu wein'n, vermisse meine Kinder\n",
        "Doch nur für euch mach' ich das Para klar\n",
        "Fünf Songs in einer Nacht, drei Alben in einem Jahr\n",
        "Nur noch fünf Minuten, dann ist Stagetime\n",
        "\"Papa, wir lieben dich\", hör' ich über Facetime\n",
        "Ich wollt ich selbst bleiben, für euch ein Held sein\n",
        "Und bin mein'n Weg gegangen, wie bei 8 Mile\n",
        "Und euer Onkel Ashraf, er mag's nicht, wenn wir ihn erwähn'n\n",
        "Doch ohne ihn wär ich lang nicht mehr am leben\n",
        "Echte Freunde zähl' ich an der Hand ab\n",
        "Ashraf, Samra, Vincent, Heiko Hammer\n",
        "Danke an alle Fans, ich hab' euch so zu schätzen\n",
        "Denn nur wegen euch hab' ich heut was zu essen\n",
        "Und ich scheiß' drauf, was die Hater reden\n",
        "Ich fall' auf die Knie, um zu Gott zu beten\n",
        "Mitten in der Nacht und ich hasse mich selbst\n",
        "Was ich gemacht hab' für Geld\n",
        "Das ist der Grund, warum ich nicht mehr schlafen kann\n",
        "365 Tage lang\n",
        "Mitten in der Nacht und ich hasse die Welt\n",
        "Durch die Stadt im SL, es geht alles zu schnell\n",
        "Das ist der Grund, warum ich nicht mehr schlafen kann\n",
        "365 Tage lang\n",
        "Kauf' ein'n Lamborghini anthrazit\n",
        "Kranker Beat, keine Gnade wie Sanssouci\n",
        "Tage nichts gegessen, fühlt sich an, als würd ich schlafwandeln\n",
        "Und trotzdem muss ich Hits in den Charts landen\n",
        "Das alles fickt mein Immunsystem\n",
        "Draußen warten nur Hyän'n, doch ich bleibe souverän\n",
        "Ferragamo-Gürtel, sie würden mich gern töten\n",
        "Tun, als ob sie mich mögen, doch woll'n nur mein Vermögen\n",
        "Der charmanteste Wichser, arroganteste Junkie\n",
        "Bin ich mit ihr fertig, kann sie sich wieder anzieh'n\n",
        "Und der Automat läuft wieder auf Autostart\n",
        "Endlich Plus, doch ich bin nicht in der Lage auszuzahl'n\n",
        "Was für anlegen? Hundert K abheben\n",
        "London, Nachtleben, im Q8 Taş legen\n",
        "Inhalier'n, denn der Tod ist reserviert\n",
        "Investier'n, investier'n, und dann alles verlier'n\n",
        "Mitten in der Nacht und ich hasse mich selbst\n",
        "Was ich gemacht hab' für Geld\n",
        "Das ist der Grund, warum ich nicht mehr schlafen kann\n",
        "365 Tage lang\n",
        "Mitten in der Nacht und ich hasse die Welt\n",
        "Durch die Stadt im SL, es geht alles zu schnell\n",
        "Das ist der Grund, warum ich nicht mehr schlafen kann\n",
        "365 Tage lang\n",
        "Mitten in der Nacht und ich hasse mich selbst\n",
        "Was ich gemacht hab' für Geld\n",
        "Das ist der Grund, warum ich nicht mehr schlafen kann\n",
        "It's just me against the world\n",
        "It's just me against the world (yeah)\n",
        "Ich hasse die Welt\n",
        "Fuck the world\n",
        "Und ich hasse mich selbst\n",
        "Sometimes it's hard\n",
        "It's just me against the world\n",
        "It's just me against the world (yeah)\n",
        "Ich hasse die Welt\n",
        "Fuck the world, 'til I'm gone\n",
        "365 Tage lang \"\"\""
      ],
      "execution_count": 87,
      "outputs": []
    },
    {
      "cell_type": "code",
      "metadata": {
        "colab": {
          "base_uri": "https://localhost:8080/",
          "height": 163
        },
        "id": "iUV3DQ-0JZHs",
        "outputId": "9d7e0ed1-6720-4388-f8f9-5a2c6901c93b"
      },
      "source": [
        "learn.predict(test)"
      ],
      "execution_count": 90,
      "outputs": [
        {
          "output_type": "display_data",
          "data": {
            "text/html": [
              ""
            ],
            "text/plain": [
              "<IPython.core.display.HTML object>"
            ]
          },
          "metadata": {
            "tags": []
          }
        },
        {
          "output_type": "error",
          "ename": "AttributeError",
          "evalue": "ignored",
          "traceback": [
            "\u001b[0;31m---------------------------------------------------------------------------\u001b[0m",
            "\u001b[0;31mAttributeError\u001b[0m                            Traceback (most recent call last)",
            "\u001b[0;32m<ipython-input-90-5e306fd5892d>\u001b[0m in \u001b[0;36m<module>\u001b[0;34m()\u001b[0m\n\u001b[0;32m----> 1\u001b[0;31m \u001b[0mlearn\u001b[0m\u001b[0;34m.\u001b[0m\u001b[0mpredict\u001b[0m\u001b[0;34m(\u001b[0m\u001b[0mtest\u001b[0m\u001b[0;34m)\u001b[0m\u001b[0;34m.\u001b[0m\u001b[0mvocab\u001b[0m\u001b[0;34m(\u001b[0m\u001b[0;34m)\u001b[0m\u001b[0;34m\u001b[0m\u001b[0;34m\u001b[0m\u001b[0m\n\u001b[0m",
            "\u001b[0;31mAttributeError\u001b[0m: 'tuple' object has no attribute 'vocab'"
          ]
        }
      ]
    },
    {
      "cell_type": "markdown",
      "metadata": {
        "id": "HS9_IaxDLk-z"
      },
      "source": [
        "## Saving / Exporting the Model for Production Use"
      ]
    },
    {
      "cell_type": "code",
      "metadata": {
        "id": "kApnxjhbLpE3"
      },
      "source": [
        "learn.export()"
      ],
      "execution_count": 100,
      "outputs": []
    },
    {
      "cell_type": "code",
      "metadata": {
        "colab": {
          "base_uri": "https://localhost:8080/",
          "height": 17
        },
        "id": "Lk4gfPGLLxmI",
        "outputId": "ac8976cd-49d9-42ff-9c8a-6265c580ac6d"
      },
      "source": [
        "from google.colab import files\n",
        "files.download('/content/models/export.pkl') "
      ],
      "execution_count": 103,
      "outputs": [
        {
          "output_type": "display_data",
          "data": {
            "application/javascript": [
              "\n",
              "    async function download(id, filename, size) {\n",
              "      if (!google.colab.kernel.accessAllowed) {\n",
              "        return;\n",
              "      }\n",
              "      const div = document.createElement('div');\n",
              "      const label = document.createElement('label');\n",
              "      label.textContent = `Downloading \"${filename}\": `;\n",
              "      div.appendChild(label);\n",
              "      const progress = document.createElement('progress');\n",
              "      progress.max = size;\n",
              "      div.appendChild(progress);\n",
              "      document.body.appendChild(div);\n",
              "\n",
              "      const buffers = [];\n",
              "      let downloaded = 0;\n",
              "\n",
              "      const channel = await google.colab.kernel.comms.open(id);\n",
              "      // Send a message to notify the kernel that we're ready.\n",
              "      channel.send({})\n",
              "\n",
              "      for await (const message of channel.messages) {\n",
              "        // Send a message to notify the kernel that we're ready.\n",
              "        channel.send({})\n",
              "        if (message.buffers) {\n",
              "          for (const buffer of message.buffers) {\n",
              "            buffers.push(buffer);\n",
              "            downloaded += buffer.byteLength;\n",
              "            progress.value = downloaded;\n",
              "          }\n",
              "        }\n",
              "      }\n",
              "      const blob = new Blob(buffers, {type: 'application/binary'});\n",
              "      const a = document.createElement('a');\n",
              "      a.href = window.URL.createObjectURL(blob);\n",
              "      a.download = filename;\n",
              "      div.appendChild(a);\n",
              "      a.click();\n",
              "      div.remove();\n",
              "    }\n",
              "  "
            ],
            "text/plain": [
              "<IPython.core.display.Javascript object>"
            ]
          },
          "metadata": {
            "tags": []
          }
        },
        {
          "output_type": "display_data",
          "data": {
            "application/javascript": [
              "download(\"download_668ea6e9-f341-4491-b961-57b5c1b0e872\", \"export.pkl\", 126844520)"
            ],
            "text/plain": [
              "<IPython.core.display.Javascript object>"
            ]
          },
          "metadata": {
            "tags": []
          }
        }
      ]
    }
  ]
}